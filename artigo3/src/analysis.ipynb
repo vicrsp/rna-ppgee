{
 "metadata": {
  "language_info": {
   "codemirror_mode": {
    "name": "ipython",
    "version": 3
   },
   "file_extension": ".py",
   "mimetype": "text/x-python",
   "name": "python",
   "nbconvert_exporter": "python",
   "pygments_lexer": "ipython3",
   "version": "3.8.5-final"
  },
  "orig_nbformat": 2,
  "kernelspec": {
   "name": "python3",
   "display_name": "Python 3.8.5 64-bit",
   "metadata": {
    "interpreter": {
     "hash": "e306745eb04e6255f5ef90bd7aabf87d10dafa8dd8a5433f87810e7e6feeffc5"
    }
   }
  }
 },
 "nbformat": 4,
 "nbformat_minor": 2,
 "cells": [
  {
   "cell_type": "code",
   "execution_count": 1,
   "metadata": {},
   "outputs": [],
   "source": [
    "# %% Load packages\n",
    "import numpy as np\n",
    "import pandas as pd\n",
    "import seaborn as sns\n",
    "import matplotlib.pyplot as plt\n",
    "from pylab import cm\n",
    "from sklearn.datasets import make_moons, make_circles, make_gaussian_quantiles\n",
    "\n",
    "from models.load import get_classification_models\n",
    "from experiments.evaluation import plot_scores, display_stats, plot_ci, plot_ci_all\n",
    "from datasets.load import load_classification_datasets, print_stats, load_sonar\n",
    "\n",
    "plt.style.use('ggplot')\n"
   ]
  },
  {
   "cell_type": "code",
   "execution_count": 7,
   "metadata": {},
   "outputs": [],
   "source": [
    "# Construct gaussian quantiles dataset\n",
    "X1, y1 = make_gaussian_quantiles(cov=2.,\n",
    "                                 n_samples=100, n_features=2,\n",
    "                                 n_classes=2, random_state=1)\n",
    "X2, y2 = make_gaussian_quantiles(mean=(3, 3), cov=1.5,\n",
    "                                 n_samples=100, n_features=2,\n",
    "                                 n_classes=2, random_state=1)\n",
    "X_q = np.concatenate((X1, X2))\n",
    "y_q = np.concatenate((y1, - y2 + 1))\n",
    "y_q = pd.Series(y_q).map({0:-1,1:1}).to_numpy()\n",
    "\n",
    "# Moons dataset\n",
    "X_m, y_m = make_moons(200, random_state=1234,noise=0.1)\n",
    "y_m = pd.Series(y_m).map({0:-1,1:1}).to_numpy()\n",
    "\n",
    "# Circles dataset\n",
    "X_c, y_c = make_circles(200, noise=0.2, factor=0.5, random_state=1)\n",
    "y_c = pd.Series(y_c).map({0:-1,1:1}).to_numpy()\n"
   ]
  },
  {
   "cell_type": "code",
   "execution_count": null,
   "metadata": {},
   "outputs": [],
   "source": [
    "models = get_classification_models()[1:]\n",
    "cmap = cm.get_cmap('Accent', len(models))"
   ]
  },
  {
   "cell_type": "code",
   "execution_count": null,
   "metadata": {},
   "outputs": [],
   "source": [
    "def plot_toy_dataset(X, y, models):\n",
    "    # and plot\n",
    "    fig, ax = plt.subplots(figsize=(8,6))\n",
    "\n",
    "    t_class0 = y == -1\n",
    "    t_class1 = y == 1\n",
    "    ax.scatter(X[t_class0, 0], X[t_class0, 1], color='red')\n",
    "    ax.scatter(X[t_class1, 0], X[t_class1, 1], color='blue')\n",
    "    ax.set_xlabel('x1')\n",
    "    ax.set_ylabel('x2')\n",
    "\n",
    "    x1 = np.arange(np.min(X[:,0])*0.9, np.max(X[:,0])*1.1, step=0.05)\n",
    "    x2 = np.arange(np.min(X[:,1])*0.9, np.max(X[:,1])*1.1, step=0.05)\n",
    "\n",
    "    xx, yy = np.meshgrid(x1, x2)\n",
    "    # flatten each grid to a vector\n",
    "    r1, r2 = xx.flatten(), yy.flatten()\n",
    "    r1, r2 = r1.reshape((len(r1), 1)), r2.reshape((len(r2), 1))\n",
    "        \n",
    "    # horizontal stack vectors to create x1,x2 input for the model\n",
    "    grid = np.hstack((r1,r2))\n",
    "\n",
    "    # plot each decision boundary\n",
    "    i = 0\n",
    "    model_color = []\n",
    "    for name, model, _ in models:\n",
    "        model.fit(X, y) \n",
    "        y_hat = model.predict(grid)\n",
    "        zz = y_hat.reshape(xx.shape)\n",
    "        color = cmap(i)\n",
    "        cs = ax.contour(xx, yy, zz, colors=[color])\n",
    "        \n",
    "        proxy = plt.Rectangle((0,0),1,1,fc=color)\n",
    "        model_color.append((name, color, proxy))\n",
    "\n",
    "        i = i + 1\n",
    "    \n",
    "    ax.legend([x[2] for x in model_color],[x[0] for x in model_color])\n",
    "    fig.show()\n",
    "    return model_color"
   ]
  },
  {
   "cell_type": "code",
   "execution_count": null,
   "metadata": {},
   "outputs": [],
   "source": [
    "m_color_circles = plot_toy_dataset(X_c,y_c,models)"
   ]
  },
  {
   "cell_type": "code",
   "execution_count": null,
   "metadata": {},
   "outputs": [],
   "source": [
    "m_color_quantile = plot_toy_dataset(X_q,y_q,models)"
   ]
  },
  {
   "cell_type": "code",
   "execution_count": null,
   "metadata": {},
   "outputs": [],
   "source": [
    "m_color_moons = plot_toy_dataset(X_m,y_m,models)"
   ]
  },
  {
   "cell_type": "code",
   "execution_count": 2,
   "metadata": {},
   "outputs": [],
   "source": [
    "path_class = '/home/victor/git/rna-ppgee/artigo3/report/figures/classification_experiment_chart_data.csv'\n",
    "save_path = '/home/victor/git/rna-ppgee/artigo3/report'"
   ]
  },
  {
   "cell_type": "code",
   "execution_count": null,
   "metadata": {},
   "outputs": [],
   "source": [
    "plot_ci(path_class, 'Acurácia', 'Modelo')"
   ]
  },
  {
   "cell_type": "code",
   "execution_count": 3,
   "metadata": {},
   "outputs": [
    {
     "output_type": "execute_result",
     "data": {
      "text/plain": [
       "                       score                                    \\\n",
       "model_name               ELM             GK-H             GK-P   \n",
       "dataset                                                          \n",
       "ILPD          70.965 ± 1.889   52.952 ± 6.197   66.289 ± 5.396   \n",
       "appendicitis  85.818 ± 7.705  76.364 ± 16.318   87.636 ± 8.835   \n",
       "australian    85.942 ± 5.064   86.087 ± 4.727   87.601 ± 3.491   \n",
       "banknote      97.959 ± 0.850   91.761 ± 2.124   91.908 ± 2.499   \n",
       "breastcancer  96.482 ± 1.931   92.093 ± 3.160   94.531 ± 1.292   \n",
       "bupa          70.454 ± 5.191   50.143 ± 8.406   60.654 ± 3.258   \n",
       "climate       91.111 ± 1.111   57.593 ± 4.095   91.481 ± 0.907   \n",
       "fertility     86.000 ± 4.899  52.222 ± 13.966   86.000 ± 4.899   \n",
       "glass         96.255 ± 3.490  86.845 ± 11.209   97.078 ± 2.265   \n",
       "haberman      76.237 ± 2.620   53.591 ± 5.800   74.691 ± 2.146   \n",
       "heart         84.774 ± 2.098   78.189 ± 5.906   82.222 ± 5.926   \n",
       "ionosphere    88.310 ± 4.149   70.079 ± 6.931   87.002 ± 4.715   \n",
       "pima          76.422 ± 3.591   67.439 ± 2.860   72.517 ± 4.860   \n",
       "segmentation  99.654 ± 0.260   57.056 ± 3.457   88.788 ± 1.455   \n",
       "sonar         65.030 ± 6.330  46.881 ± 15.892  65.926 ± 14.698   \n",
       "\n",
       "                                                                 \\\n",
       "model_name             GK-RBF           GK-SVM           MLPK-H   \n",
       "dataset                                                           \n",
       "ILPD           71.455 ± 0.783   71.431 ± 0.761   60.771 ± 8.558   \n",
       "appendicitis  84.727 ± 10.122   86.727 ± 9.801  61.545 ± 19.905   \n",
       "australian     86.087 ± 4.453   85.797 ± 4.798   85.185 ± 3.535   \n",
       "banknote       99.781 ± 0.334  100.000 ± 0.000  100.000 ± 0.000   \n",
       "breastcancer   91.208 ± 1.242   98.823 ± 1.184   96.878 ± 0.723   \n",
       "bupa           61.102 ± 4.445   70.807 ± 8.441   55.958 ± 7.824   \n",
       "climate        91.111 ± 1.111   91.296 ± 0.849  78.148 ± 13.952   \n",
       "fertility      87.778 ± 4.157   87.000 ± 4.583  60.000 ± 16.125   \n",
       "glass          97.684 ± 3.082   96.255 ± 4.089   95.303 ± 4.720   \n",
       "haberman       72.226 ± 3.560   72.559 ± 2.468  52.570 ± 12.887   \n",
       "heart          85.185 ± 4.382   79.630 ± 4.757   82.222 ± 5.926   \n",
       "ionosphere     89.468 ± 6.500   93.730 ± 4.202   92.889 ± 3.634   \n",
       "pima           75.909 ± 4.156   77.740 ± 2.887   75.518 ± 4.438   \n",
       "segmentation   98.615 ± 0.794   99.697 ± 0.338   78.163 ± 3.708   \n",
       "sonar         60.381 ± 17.003   53.899 ± 3.145  69.357 ± 13.203   \n",
       "\n",
       "                               \n",
       "model_name             MLPK-P  \n",
       "dataset                        \n",
       "ILPD           71.431 ± 0.761  \n",
       "appendicitis   75.364 ± 7.867  \n",
       "australian     83.913 ± 3.270  \n",
       "banknote      100.000 ± 0.000  \n",
       "breastcancer   96.313 ± 1.990  \n",
       "bupa           57.096 ± 5.346  \n",
       "climate        89.815 ± 2.070  \n",
       "fertility      87.778 ± 4.157  \n",
       "glass          96.255 ± 3.490  \n",
       "haberman       72.538 ± 2.255  \n",
       "heart          87.500 ± 4.512  \n",
       "ionosphere     93.175 ± 4.046  \n",
       "pima           76.767 ± 1.870  \n",
       "segmentation   85.714 ± 0.000  \n",
       "sonar         66.481 ± 11.236  "
      ],
      "text/html": "<div>\n<style scoped>\n    .dataframe tbody tr th:only-of-type {\n        vertical-align: middle;\n    }\n\n    .dataframe tbody tr th {\n        vertical-align: top;\n    }\n\n    .dataframe thead tr th {\n        text-align: left;\n    }\n\n    .dataframe thead tr:last-of-type th {\n        text-align: right;\n    }\n</style>\n<table border=\"1\" class=\"dataframe\">\n  <thead>\n    <tr>\n      <th></th>\n      <th colspan=\"7\" halign=\"left\">score</th>\n    </tr>\n    <tr>\n      <th>model_name</th>\n      <th>ELM</th>\n      <th>GK-H</th>\n      <th>GK-P</th>\n      <th>GK-RBF</th>\n      <th>GK-SVM</th>\n      <th>MLPK-H</th>\n      <th>MLPK-P</th>\n    </tr>\n    <tr>\n      <th>dataset</th>\n      <th></th>\n      <th></th>\n      <th></th>\n      <th></th>\n      <th></th>\n      <th></th>\n      <th></th>\n    </tr>\n  </thead>\n  <tbody>\n    <tr>\n      <th>ILPD</th>\n      <td>70.965 ± 1.889</td>\n      <td>52.952 ± 6.197</td>\n      <td>66.289 ± 5.396</td>\n      <td>71.455 ± 0.783</td>\n      <td>71.431 ± 0.761</td>\n      <td>60.771 ± 8.558</td>\n      <td>71.431 ± 0.761</td>\n    </tr>\n    <tr>\n      <th>appendicitis</th>\n      <td>85.818 ± 7.705</td>\n      <td>76.364 ± 16.318</td>\n      <td>87.636 ± 8.835</td>\n      <td>84.727 ± 10.122</td>\n      <td>86.727 ± 9.801</td>\n      <td>61.545 ± 19.905</td>\n      <td>75.364 ± 7.867</td>\n    </tr>\n    <tr>\n      <th>australian</th>\n      <td>85.942 ± 5.064</td>\n      <td>86.087 ± 4.727</td>\n      <td>87.601 ± 3.491</td>\n      <td>86.087 ± 4.453</td>\n      <td>85.797 ± 4.798</td>\n      <td>85.185 ± 3.535</td>\n      <td>83.913 ± 3.270</td>\n    </tr>\n    <tr>\n      <th>banknote</th>\n      <td>97.959 ± 0.850</td>\n      <td>91.761 ± 2.124</td>\n      <td>91.908 ± 2.499</td>\n      <td>99.781 ± 0.334</td>\n      <td>100.000 ± 0.000</td>\n      <td>100.000 ± 0.000</td>\n      <td>100.000 ± 0.000</td>\n    </tr>\n    <tr>\n      <th>breastcancer</th>\n      <td>96.482 ± 1.931</td>\n      <td>92.093 ± 3.160</td>\n      <td>94.531 ± 1.292</td>\n      <td>91.208 ± 1.242</td>\n      <td>98.823 ± 1.184</td>\n      <td>96.878 ± 0.723</td>\n      <td>96.313 ± 1.990</td>\n    </tr>\n    <tr>\n      <th>bupa</th>\n      <td>70.454 ± 5.191</td>\n      <td>50.143 ± 8.406</td>\n      <td>60.654 ± 3.258</td>\n      <td>61.102 ± 4.445</td>\n      <td>70.807 ± 8.441</td>\n      <td>55.958 ± 7.824</td>\n      <td>57.096 ± 5.346</td>\n    </tr>\n    <tr>\n      <th>climate</th>\n      <td>91.111 ± 1.111</td>\n      <td>57.593 ± 4.095</td>\n      <td>91.481 ± 0.907</td>\n      <td>91.111 ± 1.111</td>\n      <td>91.296 ± 0.849</td>\n      <td>78.148 ± 13.952</td>\n      <td>89.815 ± 2.070</td>\n    </tr>\n    <tr>\n      <th>fertility</th>\n      <td>86.000 ± 4.899</td>\n      <td>52.222 ± 13.966</td>\n      <td>86.000 ± 4.899</td>\n      <td>87.778 ± 4.157</td>\n      <td>87.000 ± 4.583</td>\n      <td>60.000 ± 16.125</td>\n      <td>87.778 ± 4.157</td>\n    </tr>\n    <tr>\n      <th>glass</th>\n      <td>96.255 ± 3.490</td>\n      <td>86.845 ± 11.209</td>\n      <td>97.078 ± 2.265</td>\n      <td>97.684 ± 3.082</td>\n      <td>96.255 ± 4.089</td>\n      <td>95.303 ± 4.720</td>\n      <td>96.255 ± 3.490</td>\n    </tr>\n    <tr>\n      <th>haberman</th>\n      <td>76.237 ± 2.620</td>\n      <td>53.591 ± 5.800</td>\n      <td>74.691 ± 2.146</td>\n      <td>72.226 ± 3.560</td>\n      <td>72.559 ± 2.468</td>\n      <td>52.570 ± 12.887</td>\n      <td>72.538 ± 2.255</td>\n    </tr>\n    <tr>\n      <th>heart</th>\n      <td>84.774 ± 2.098</td>\n      <td>78.189 ± 5.906</td>\n      <td>82.222 ± 5.926</td>\n      <td>85.185 ± 4.382</td>\n      <td>79.630 ± 4.757</td>\n      <td>82.222 ± 5.926</td>\n      <td>87.500 ± 4.512</td>\n    </tr>\n    <tr>\n      <th>ionosphere</th>\n      <td>88.310 ± 4.149</td>\n      <td>70.079 ± 6.931</td>\n      <td>87.002 ± 4.715</td>\n      <td>89.468 ± 6.500</td>\n      <td>93.730 ± 4.202</td>\n      <td>92.889 ± 3.634</td>\n      <td>93.175 ± 4.046</td>\n    </tr>\n    <tr>\n      <th>pima</th>\n      <td>76.422 ± 3.591</td>\n      <td>67.439 ± 2.860</td>\n      <td>72.517 ± 4.860</td>\n      <td>75.909 ± 4.156</td>\n      <td>77.740 ± 2.887</td>\n      <td>75.518 ± 4.438</td>\n      <td>76.767 ± 1.870</td>\n    </tr>\n    <tr>\n      <th>segmentation</th>\n      <td>99.654 ± 0.260</td>\n      <td>57.056 ± 3.457</td>\n      <td>88.788 ± 1.455</td>\n      <td>98.615 ± 0.794</td>\n      <td>99.697 ± 0.338</td>\n      <td>78.163 ± 3.708</td>\n      <td>85.714 ± 0.000</td>\n    </tr>\n    <tr>\n      <th>sonar</th>\n      <td>65.030 ± 6.330</td>\n      <td>46.881 ± 15.892</td>\n      <td>65.926 ± 14.698</td>\n      <td>60.381 ± 17.003</td>\n      <td>53.899 ± 3.145</td>\n      <td>69.357 ± 13.203</td>\n      <td>66.481 ± 11.236</td>\n    </tr>\n  </tbody>\n</table>\n</div>"
     },
     "metadata": {},
     "execution_count": 3
    }
   ],
   "source": [
    "display_stats(path_class, 'Acurácia', 'std', save_path)"
   ]
  },
  {
   "cell_type": "code",
   "execution_count": 4,
   "metadata": {},
   "outputs": [
    {
     "output_type": "execute_result",
     "data": {
      "text/plain": [
       "                               score                          \\\n",
       "model_name                       ELM                    GK-H   \n",
       "dataset                                                        \n",
       "ILPD          70.965 (69.762,72.252)  52.952 (49.158,56.939)   \n",
       "appendicitis  85.818 (81.091,90.364)  76.364 (66.725,86.002)   \n",
       "australian    85.942 (82.899,89.420)  86.087 (83.475,88.986)   \n",
       "banknote      97.959 (97.447,98.542)  91.761 (90.515,93.153)   \n",
       "breastcancer  96.482 (95.244,97.710)  92.093 (90.000,93.860)   \n",
       "bupa          70.454 (67.217,73.530)  50.143 (44.772,55.689)   \n",
       "climate       91.111 (90.556,91.852)  57.593 (54.815,60.000)   \n",
       "fertility     86.000 (83.000,89.000)  52.222 (43.306,60.000)   \n",
       "glass         96.255 (94.372,98.550)  86.845 (79.942,94.324)   \n",
       "haberman      76.237 (74.288,77.970)  53.591 (49.838,57.194)   \n",
       "heart         84.774 (83.539,86.008)  78.189 (74.486,82.305)   \n",
       "ionosphere    88.310 (85.976,90.905)  70.079 (66.159,74.730)   \n",
       "pima          76.422 (74.142,78.572)  67.439 (65.375,69.270)   \n",
       "segmentation  99.654 (99.481,99.827)  57.056 (54.935,59.048)   \n",
       "sonar         65.030 (60.833,70.000)  46.881 (37.429,57.143)   \n",
       "\n",
       "                                                               \\\n",
       "model_name                      GK-P                   GK-RBF   \n",
       "dataset                                                         \n",
       "ILPD          66.289 (62.877,69.565)   71.455 (70.986,71.924)   \n",
       "appendicitis  87.636 (81.907,93.000)   84.727 (78.545,90.916)   \n",
       "australian    87.601 (85.346,89.698)   86.087 (83.478,88.696)   \n",
       "banknote      91.908 (90.308,93.378)  99.781 (99.562,100.000)   \n",
       "breastcancer  94.531 (93.741,95.311)   91.208 (90.312,92.066)   \n",
       "bupa          60.654 (58.366,62.662)   61.102 (58.207,63.800)   \n",
       "climate       91.481 (90.926,92.037)   91.111 (90.370,91.852)   \n",
       "fertility     86.000 (83.000,89.000)   87.778 (85.556,91.111)   \n",
       "glass         97.078 (95.319,98.295)   97.684 (95.823,99.567)   \n",
       "haberman      74.691 (73.266,76.116)   72.226 (69.968,74.270)   \n",
       "heart         82.222 (78.889,85.926)   85.185 (82.593,88.148)   \n",
       "ionosphere    87.002 (83.827,90.511)   89.468 (85.508,93.429)   \n",
       "pima          72.517 (69.488,75.418)   75.909 (73.528,78.613)   \n",
       "segmentation  88.788 (87.834,89.610)   98.615 (98.139,99.091)   \n",
       "sonar         65.926 (56.717,75.238)   60.381 (50.066,71.168)   \n",
       "\n",
       "                                                                    \\\n",
       "model_name                       GK-SVM                     MLPK-H   \n",
       "dataset                                                              \n",
       "ILPD             71.431 (70.905,71.956)     60.771 (55.492,66.030)   \n",
       "appendicitis     86.727 (81.000,92.455)     61.545 (49.452,75.275)   \n",
       "australian       85.797 (83.040,88.986)     85.185 (82.931,87.440)   \n",
       "banknote      100.000 (100.000,100.000)  100.000 (100.000,100.000)   \n",
       "breastcancer     98.823 (98.037,99.610)     96.878 (96.484,97.264)   \n",
       "bupa             70.807 (65.387,75.815)     55.958 (51.007,60.723)   \n",
       "climate          91.296 (90.741,91.667)     78.148 (70.546,87.407)   \n",
       "fertility        87.000 (84.000,90.000)     60.000 (49.975,69.025)   \n",
       "glass            96.255 (93.896,99.048)     95.303 (92.489,98.182)   \n",
       "haberman         72.559 (71.084,74.086)     52.570 (44.404,60.176)   \n",
       "heart            79.630 (77.037,82.602)     82.222 (78.519,85.935)   \n",
       "ionosphere       93.730 (91.175,96.587)     92.889 (90.635,95.175)   \n",
       "pima             77.740 (75.826,79.617)     75.518 (72.881,78.124)   \n",
       "segmentation     99.697 (99.481,99.913)     78.163 (75.612,80.423)   \n",
       "sonar            53.899 (51.845,56.280)     69.357 (61.022,77.054)   \n",
       "\n",
       "                                         \n",
       "model_name                       MLPK-P  \n",
       "dataset                                  \n",
       "ILPD             71.431 (70.905,71.956)  \n",
       "appendicitis     75.364 (71.273,80.364)  \n",
       "australian       83.913 (81.884,85.801)  \n",
       "banknote      100.000 (100.000,100.000)  \n",
       "breastcancer     96.313 (95.085,97.538)  \n",
       "bupa             57.096 (53.182,60.198)  \n",
       "climate          89.815 (88.519,91.296)  \n",
       "fertility        87.778 (85.556,90.000)  \n",
       "glass            96.255 (93.939,98.571)  \n",
       "haberman         72.538 (71.312,74.075)  \n",
       "heart            87.500 (84.259,90.278)  \n",
       "ionosphere       93.175 (90.635,95.714)  \n",
       "pima             76.767 (75.242,78.025)  \n",
       "segmentation     85.714 (85.714,85.714)  \n",
       "sonar            66.481 (58.726,73.894)  "
      ],
      "text/html": "<div>\n<style scoped>\n    .dataframe tbody tr th:only-of-type {\n        vertical-align: middle;\n    }\n\n    .dataframe tbody tr th {\n        vertical-align: top;\n    }\n\n    .dataframe thead tr th {\n        text-align: left;\n    }\n\n    .dataframe thead tr:last-of-type th {\n        text-align: right;\n    }\n</style>\n<table border=\"1\" class=\"dataframe\">\n  <thead>\n    <tr>\n      <th></th>\n      <th colspan=\"7\" halign=\"left\">score</th>\n    </tr>\n    <tr>\n      <th>model_name</th>\n      <th>ELM</th>\n      <th>GK-H</th>\n      <th>GK-P</th>\n      <th>GK-RBF</th>\n      <th>GK-SVM</th>\n      <th>MLPK-H</th>\n      <th>MLPK-P</th>\n    </tr>\n    <tr>\n      <th>dataset</th>\n      <th></th>\n      <th></th>\n      <th></th>\n      <th></th>\n      <th></th>\n      <th></th>\n      <th></th>\n    </tr>\n  </thead>\n  <tbody>\n    <tr>\n      <th>ILPD</th>\n      <td>70.965 (69.762,72.252)</td>\n      <td>52.952 (49.158,56.939)</td>\n      <td>66.289 (62.877,69.565)</td>\n      <td>71.455 (70.986,71.924)</td>\n      <td>71.431 (70.905,71.956)</td>\n      <td>60.771 (55.492,66.030)</td>\n      <td>71.431 (70.905,71.956)</td>\n    </tr>\n    <tr>\n      <th>appendicitis</th>\n      <td>85.818 (81.091,90.364)</td>\n      <td>76.364 (66.725,86.002)</td>\n      <td>87.636 (81.907,93.000)</td>\n      <td>84.727 (78.545,90.916)</td>\n      <td>86.727 (81.000,92.455)</td>\n      <td>61.545 (49.452,75.275)</td>\n      <td>75.364 (71.273,80.364)</td>\n    </tr>\n    <tr>\n      <th>australian</th>\n      <td>85.942 (82.899,89.420)</td>\n      <td>86.087 (83.475,88.986)</td>\n      <td>87.601 (85.346,89.698)</td>\n      <td>86.087 (83.478,88.696)</td>\n      <td>85.797 (83.040,88.986)</td>\n      <td>85.185 (82.931,87.440)</td>\n      <td>83.913 (81.884,85.801)</td>\n    </tr>\n    <tr>\n      <th>banknote</th>\n      <td>97.959 (97.447,98.542)</td>\n      <td>91.761 (90.515,93.153)</td>\n      <td>91.908 (90.308,93.378)</td>\n      <td>99.781 (99.562,100.000)</td>\n      <td>100.000 (100.000,100.000)</td>\n      <td>100.000 (100.000,100.000)</td>\n      <td>100.000 (100.000,100.000)</td>\n    </tr>\n    <tr>\n      <th>breastcancer</th>\n      <td>96.482 (95.244,97.710)</td>\n      <td>92.093 (90.000,93.860)</td>\n      <td>94.531 (93.741,95.311)</td>\n      <td>91.208 (90.312,92.066)</td>\n      <td>98.823 (98.037,99.610)</td>\n      <td>96.878 (96.484,97.264)</td>\n      <td>96.313 (95.085,97.538)</td>\n    </tr>\n    <tr>\n      <th>bupa</th>\n      <td>70.454 (67.217,73.530)</td>\n      <td>50.143 (44.772,55.689)</td>\n      <td>60.654 (58.366,62.662)</td>\n      <td>61.102 (58.207,63.800)</td>\n      <td>70.807 (65.387,75.815)</td>\n      <td>55.958 (51.007,60.723)</td>\n      <td>57.096 (53.182,60.198)</td>\n    </tr>\n    <tr>\n      <th>climate</th>\n      <td>91.111 (90.556,91.852)</td>\n      <td>57.593 (54.815,60.000)</td>\n      <td>91.481 (90.926,92.037)</td>\n      <td>91.111 (90.370,91.852)</td>\n      <td>91.296 (90.741,91.667)</td>\n      <td>78.148 (70.546,87.407)</td>\n      <td>89.815 (88.519,91.296)</td>\n    </tr>\n    <tr>\n      <th>fertility</th>\n      <td>86.000 (83.000,89.000)</td>\n      <td>52.222 (43.306,60.000)</td>\n      <td>86.000 (83.000,89.000)</td>\n      <td>87.778 (85.556,91.111)</td>\n      <td>87.000 (84.000,90.000)</td>\n      <td>60.000 (49.975,69.025)</td>\n      <td>87.778 (85.556,90.000)</td>\n    </tr>\n    <tr>\n      <th>glass</th>\n      <td>96.255 (94.372,98.550)</td>\n      <td>86.845 (79.942,94.324)</td>\n      <td>97.078 (95.319,98.295)</td>\n      <td>97.684 (95.823,99.567)</td>\n      <td>96.255 (93.896,99.048)</td>\n      <td>95.303 (92.489,98.182)</td>\n      <td>96.255 (93.939,98.571)</td>\n    </tr>\n    <tr>\n      <th>haberman</th>\n      <td>76.237 (74.288,77.970)</td>\n      <td>53.591 (49.838,57.194)</td>\n      <td>74.691 (73.266,76.116)</td>\n      <td>72.226 (69.968,74.270)</td>\n      <td>72.559 (71.084,74.086)</td>\n      <td>52.570 (44.404,60.176)</td>\n      <td>72.538 (71.312,74.075)</td>\n    </tr>\n    <tr>\n      <th>heart</th>\n      <td>84.774 (83.539,86.008)</td>\n      <td>78.189 (74.486,82.305)</td>\n      <td>82.222 (78.889,85.926)</td>\n      <td>85.185 (82.593,88.148)</td>\n      <td>79.630 (77.037,82.602)</td>\n      <td>82.222 (78.519,85.935)</td>\n      <td>87.500 (84.259,90.278)</td>\n    </tr>\n    <tr>\n      <th>ionosphere</th>\n      <td>88.310 (85.976,90.905)</td>\n      <td>70.079 (66.159,74.730)</td>\n      <td>87.002 (83.827,90.511)</td>\n      <td>89.468 (85.508,93.429)</td>\n      <td>93.730 (91.175,96.587)</td>\n      <td>92.889 (90.635,95.175)</td>\n      <td>93.175 (90.635,95.714)</td>\n    </tr>\n    <tr>\n      <th>pima</th>\n      <td>76.422 (74.142,78.572)</td>\n      <td>67.439 (65.375,69.270)</td>\n      <td>72.517 (69.488,75.418)</td>\n      <td>75.909 (73.528,78.613)</td>\n      <td>77.740 (75.826,79.617)</td>\n      <td>75.518 (72.881,78.124)</td>\n      <td>76.767 (75.242,78.025)</td>\n    </tr>\n    <tr>\n      <th>segmentation</th>\n      <td>99.654 (99.481,99.827)</td>\n      <td>57.056 (54.935,59.048)</td>\n      <td>88.788 (87.834,89.610)</td>\n      <td>98.615 (98.139,99.091)</td>\n      <td>99.697 (99.481,99.913)</td>\n      <td>78.163 (75.612,80.423)</td>\n      <td>85.714 (85.714,85.714)</td>\n    </tr>\n    <tr>\n      <th>sonar</th>\n      <td>65.030 (60.833,70.000)</td>\n      <td>46.881 (37.429,57.143)</td>\n      <td>65.926 (56.717,75.238)</td>\n      <td>60.381 (50.066,71.168)</td>\n      <td>53.899 (51.845,56.280)</td>\n      <td>69.357 (61.022,77.054)</td>\n      <td>66.481 (58.726,73.894)</td>\n    </tr>\n  </tbody>\n</table>\n</div>"
     },
     "metadata": {},
     "execution_count": 4
    }
   ],
   "source": [
    "display_stats(path_class, 'Acurácia', 'ci', save_path)"
   ]
  },
  {
   "cell_type": "code",
   "execution_count": null,
   "metadata": {},
   "outputs": [],
   "source": []
  }
 ]
}