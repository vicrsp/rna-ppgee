{
 "cells": [
  {
   "cell_type": "code",
   "execution_count": 108,
   "metadata": {},
   "outputs": [
    {
     "name": "stdout",
     "output_type": "stream",
     "text": [
      "The autoreload extension is already loaded. To reload it, use:\n",
      "  %reload_ext autoreload\n"
     ]
    }
   ],
   "source": [
    "%load_ext autoreload\n",
    "%autoreload 2\n",
    "\n",
    "import numpy as np\n",
    "import pandas as pd\n",
    "import seaborn as sns\n",
    "import matplotlib.pyplot as plt\n",
    "\n",
    "from models.elm import ELMClassifier, ELMRegressor\n",
    "from models.perceptron import PerceptronClassifier\n",
    "from models.rbf import RBFClassifier, RBFRegressor\n",
    "from models.elm_hebbian import ELMHebbianClassifier, ELMHebbianRegressor\n",
    "from models.adaline import Adaline\n",
    "from experiments.evaluation import k_fold_cross_validation, plot_scores_per_dataset\n",
    "from sklearn.datasets import load_digits, load_breast_cancer, load_wine, load_boston, load_diabetes, load_iris, make_blobs\n",
    "from sklearn.preprocessing import MinMaxScaler\n",
    "from sklearn.metrics import accuracy_score\n"
   ]
  },
  {
   "cell_type": "code",
   "execution_count": 113,
   "metadata": {},
   "outputs": [
    {
     "data": {
      "image/png": "[encoded data removed]",
      "text/plain": [
       "<Figure size 432x288 with 1 Axes>"
      ]
     },
     "metadata": {
      "needs_background": "light"
     },
     "output_type": "display_data"
    }
   ],
   "source": [
    "# blobs\n",
    "X, y = make_blobs(n_features=2, centers=[[2,2], [4,4]], random_state=1234)\n",
    "y = pd.Series(y).map({0:-1,1:1}).to_numpy()\n",
    "\n",
    "# train\n",
    "heb = ELMHebbianClassifier(p=5).fit(X, y)\n",
    "elm = ELMClassifier(p=5).fit(X, y)\n",
    "\n",
    "\n",
    "# and plot\n",
    "fig, ax = plt.subplots()\n",
    "\n",
    "t_class0 = y == -1\n",
    "t_class1 = y == 1\n",
    "ax.scatter(X[t_class0, 0], X[t_class0, 1], color='red')\n",
    "ax.scatter(X[t_class1, 0], X[t_class1, 1], color='blue')\n",
    "ax.set_xlabel('x1')\n",
    "ax.set_ylabel('x2')\n",
    "\n",
    "x1 = np.arange(-2, 10, step=0.1)\n",
    "x2 = np.arange(-2, 10, step=0.1)\n",
    "\n",
    "xx, yy = np.meshgrid(x1, x2)\n",
    "# flatten each grid to a vector\n",
    "r1, r2 = xx.flatten(), yy.flatten()\n",
    "r1, r2 = r1.reshape((len(r1), 1)), r2.reshape((len(r2), 1))\n",
    "    \n",
    "# horizontal stack vectors to create x1,x2 input for the model\n",
    "grid = np.hstack((r1,r2))\n",
    "y_heb = heb.predict(grid)\n",
    "y_elm = elm.predict(grid)\n",
    "\n",
    "zz_heb = y_heb.reshape(xx.shape)\n",
    "zz_elm = y_elm.reshape(xx.shape)\n",
    "\n",
    "ax.contour(xx, yy, zz_heb, colors=['black'])\n",
    "ax.contour(xx, yy, zz_elm, colors=['green'])\n",
    "\n",
    "fig.show()\n",
    "\n"
   ]
  },
  {
   "cell_type": "code",
   "execution_count": null,
   "metadata": {},
   "outputs": [],
   "source": []
  },
  {
   "cell_type": "code",
   "execution_count": null,
   "metadata": {},
   "outputs": [],
   "source": []
  }
 ],
 "metadata": {
  "kernelspec": {
   "display_name": "Python 3",
   "language": "python",
   "name": "python3"
  },
  "language_info": {
   "codemirror_mode": {
    "name": "ipython",
    "version": 3
   },
   "file_extension": ".py",
   "mimetype": "text/x-python",
   "name": "python",
   "nbconvert_exporter": "python",
   "pygments_lexer": "ipython3",
   "version": "3.8.5"
  }
 },
 "nbformat": 4,
 "nbformat_minor": 2
}
